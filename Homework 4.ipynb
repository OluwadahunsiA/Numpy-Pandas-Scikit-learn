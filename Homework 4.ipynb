{
 "cells": [
  {
   "cell_type": "code",
   "execution_count": 143,
   "metadata": {
    "ExecuteTime": {
     "end_time": "2021-07-05T14:45:45.422740Z",
     "start_time": "2021-07-05T14:45:45.417431Z"
    }
   },
   "outputs": [],
   "source": [
    "import pandas as pd\n",
    "import numpy as np\n",
    "import matplotlib.pyplot as plt\n",
    "from sklearn.datasets import load_boston\n",
    "from sklearn.model_selection import train_test_split\n",
    "from sklearn.preprocessing import StandardScaler"
   ]
  },
  {
   "cell_type": "markdown",
   "metadata": {},
   "source": [
    " Задание 1"
   ]
  },
  {
   "cell_type": "markdown",
   "metadata": {},
   "source": [
    "Импортируйте библиотеки pandas, numpy и matplotlib.\n",
    "Загрузите \"Boston House Prices dataset\" из встроенных наборов \n",
    "данных библиотеки sklearn.\n",
    "Создайте датафреймы X и y из этих данных.\n",
    "Разбейте эти датафреймы на тренировочные (X_train, y_train) и тестовые (X_test, y_test)\n",
    "с помощью функции train_test_split так, чтобы размер тестовой выборки\n",
    "составлял 20% от всех данных, при этом аргумент random_state должен быть равен 42.\n",
    "Масштабируйте данные с помощью StandardScaler.\n",
    "Постройте модель TSNE на тренировочный данных с параметрами:\n",
    "n_components=2, learning_rate=250, random_state=42.\n",
    "Постройте диаграмму рассеяния на этих данных.\n"
   ]
  },
  {
   "cell_type": "code",
   "execution_count": 144,
   "metadata": {
    "ExecuteTime": {
     "end_time": "2021-07-05T14:45:45.913849Z",
     "start_time": "2021-07-05T14:45:45.883254Z"
    }
   },
   "outputs": [],
   "source": [
    "def reduce_mem_usage(df):\n",
    "    \"\"\" iterate through all the columns of a dataframe and modify the data type\n",
    "        to reduce memory usage.        \n",
    "    \"\"\"\n",
    "    start_mem = df.memory_usage().sum() / 1024**2\n",
    "    print('Memory usage of dataframe is {:.2f} MB'.format(start_mem))\n",
    "    \n",
    "    for col in df.columns:\n",
    "        col_type = df[col].dtype\n",
    "        \n",
    "        if col_type != object:\n",
    "            c_min = df[col].min()\n",
    "            c_max = df[col].max()\n",
    "            if str(col_type)[:3] == 'int':\n",
    "                if c_min > np.iinfo(np.int8).min and c_max < np.iinfo(np.int8).max:\n",
    "                    df[col] = df[col].astype(np.int8)\n",
    "                elif c_min > np.iinfo(np.int16).min and c_max < np.iinfo(np.int16).max:\n",
    "                    df[col] = df[col].astype(np.int16)\n",
    "                elif c_min > np.iinfo(np.int32).min and c_max < np.iinfo(np.int32).max:\n",
    "                    df[col] = df[col].astype(np.int32)\n",
    "                elif c_min > np.iinfo(np.int64).min and c_max < np.iinfo(np.int64).max:\n",
    "                    df[col] = df[col].astype(np.int64)  \n",
    "            else:\n",
    "                if c_min > np.finfo(np.float16).min and c_max < np.finfo(np.float16).max:\n",
    "                    df[col] = df[col].astype(np.float16)\n",
    "                elif c_min > np.finfo(np.float32).min and c_max < np.finfo(np.float32).max:\n",
    "                    df[col] = df[col].astype(np.float32)\n",
    "                else:\n",
    "                    df[col] = df[col].astype(np.float64)\n",
    "        else:\n",
    "            df[col] = df[col].astype('category')\n",
    "\n",
    "    end_mem = df.memory_usage().sum() / 1024**2\n",
    "    print('Memory usage after optimization is: {:.2f} MB'.format(end_mem))\n",
    "    print('Decreased by {:.1f}%'.format(100 * (start_mem - end_mem) / start_mem))\n",
    "    \n",
    "    return df"
   ]
  },
  {
   "cell_type": "code",
   "execution_count": 145,
   "metadata": {
    "ExecuteTime": {
     "end_time": "2021-07-05T14:45:46.537201Z",
     "start_time": "2021-07-05T14:45:46.507864Z"
    }
   },
   "outputs": [],
   "source": [
    "boston = load_boston()"
   ]
  },
  {
   "cell_type": "code",
   "execution_count": 146,
   "metadata": {
    "ExecuteTime": {
     "end_time": "2021-07-05T14:45:47.303073Z",
     "start_time": "2021-07-05T14:45:47.293983Z"
    }
   },
   "outputs": [
    {
     "data": {
      "text/plain": [
       "dict_keys(['data', 'target', 'feature_names', 'DESCR', 'filename'])"
      ]
     },
     "execution_count": 146,
     "metadata": {},
     "output_type": "execute_result"
    }
   ],
   "source": [
    "boston.keys()"
   ]
  },
  {
   "cell_type": "code",
   "execution_count": 147,
   "metadata": {
    "ExecuteTime": {
     "end_time": "2021-07-05T14:45:48.074179Z",
     "start_time": "2021-07-05T14:45:48.053221Z"
    }
   },
   "outputs": [
    {
     "data": {
      "text/plain": [
       "(506, 13)"
      ]
     },
     "execution_count": 147,
     "metadata": {},
     "output_type": "execute_result"
    }
   ],
   "source": [
    "boston.data.shape"
   ]
  },
  {
   "cell_type": "code",
   "execution_count": 148,
   "metadata": {
    "ExecuteTime": {
     "end_time": "2021-07-05T14:45:48.686479Z",
     "start_time": "2021-07-05T14:45:48.675596Z"
    }
   },
   "outputs": [
    {
     "data": {
      "text/plain": [
       "array(['CRIM', 'ZN', 'INDUS', 'CHAS', 'NOX', 'RM', 'AGE', 'DIS', 'RAD',\n",
       "       'TAX', 'PTRATIO', 'B', 'LSTAT'], dtype='<U7')"
      ]
     },
     "execution_count": 148,
     "metadata": {},
     "output_type": "execute_result"
    }
   ],
   "source": [
    "boston.feature_names"
   ]
  },
  {
   "cell_type": "code",
   "execution_count": 149,
   "metadata": {
    "ExecuteTime": {
     "end_time": "2021-07-05T14:45:49.159860Z",
     "start_time": "2021-07-05T14:45:49.149984Z"
    }
   },
   "outputs": [],
   "source": [
    "X = pd.DataFrame(data = boston.data, columns = boston.feature_names)"
   ]
  },
  {
   "cell_type": "code",
   "execution_count": 150,
   "metadata": {
    "ExecuteTime": {
     "end_time": "2021-07-05T14:45:49.285917Z",
     "start_time": "2021-07-05T14:45:49.165327Z"
    }
   },
   "outputs": [
    {
     "name": "stdout",
     "output_type": "stream",
     "text": [
      "Memory usage of dataframe is 0.05 MB\n",
      "Memory usage after optimization is: 0.01 MB\n",
      "Decreased by 74.8%\n"
     ]
    },
    {
     "data": {
      "text/html": [
       "<div>\n",
       "<style scoped>\n",
       "    .dataframe tbody tr th:only-of-type {\n",
       "        vertical-align: middle;\n",
       "    }\n",
       "\n",
       "    .dataframe tbody tr th {\n",
       "        vertical-align: top;\n",
       "    }\n",
       "\n",
       "    .dataframe thead th {\n",
       "        text-align: right;\n",
       "    }\n",
       "</style>\n",
       "<table border=\"1\" class=\"dataframe\">\n",
       "  <thead>\n",
       "    <tr style=\"text-align: right;\">\n",
       "      <th></th>\n",
       "      <th>CRIM</th>\n",
       "      <th>ZN</th>\n",
       "      <th>INDUS</th>\n",
       "      <th>CHAS</th>\n",
       "      <th>NOX</th>\n",
       "      <th>RM</th>\n",
       "      <th>AGE</th>\n",
       "      <th>DIS</th>\n",
       "      <th>RAD</th>\n",
       "      <th>TAX</th>\n",
       "      <th>PTRATIO</th>\n",
       "      <th>B</th>\n",
       "      <th>LSTAT</th>\n",
       "    </tr>\n",
       "  </thead>\n",
       "  <tbody>\n",
       "    <tr>\n",
       "      <td>0</td>\n",
       "      <td>0.006321</td>\n",
       "      <td>18.0</td>\n",
       "      <td>2.310547</td>\n",
       "      <td>0.0</td>\n",
       "      <td>0.538086</td>\n",
       "      <td>6.574219</td>\n",
       "      <td>65.18750</td>\n",
       "      <td>4.089844</td>\n",
       "      <td>1.0</td>\n",
       "      <td>296.0</td>\n",
       "      <td>15.296875</td>\n",
       "      <td>397.00</td>\n",
       "      <td>4.980469</td>\n",
       "    </tr>\n",
       "    <tr>\n",
       "      <td>1</td>\n",
       "      <td>0.027313</td>\n",
       "      <td>0.0</td>\n",
       "      <td>7.070312</td>\n",
       "      <td>0.0</td>\n",
       "      <td>0.468994</td>\n",
       "      <td>6.421875</td>\n",
       "      <td>78.87500</td>\n",
       "      <td>4.968750</td>\n",
       "      <td>2.0</td>\n",
       "      <td>242.0</td>\n",
       "      <td>17.796875</td>\n",
       "      <td>397.00</td>\n",
       "      <td>9.140625</td>\n",
       "    </tr>\n",
       "    <tr>\n",
       "      <td>2</td>\n",
       "      <td>0.027283</td>\n",
       "      <td>0.0</td>\n",
       "      <td>7.070312</td>\n",
       "      <td>0.0</td>\n",
       "      <td>0.468994</td>\n",
       "      <td>7.183594</td>\n",
       "      <td>61.09375</td>\n",
       "      <td>4.968750</td>\n",
       "      <td>2.0</td>\n",
       "      <td>242.0</td>\n",
       "      <td>17.796875</td>\n",
       "      <td>392.75</td>\n",
       "      <td>4.031250</td>\n",
       "    </tr>\n",
       "    <tr>\n",
       "      <td>3</td>\n",
       "      <td>0.032379</td>\n",
       "      <td>0.0</td>\n",
       "      <td>2.179688</td>\n",
       "      <td>0.0</td>\n",
       "      <td>0.458008</td>\n",
       "      <td>6.996094</td>\n",
       "      <td>45.81250</td>\n",
       "      <td>6.062500</td>\n",
       "      <td>3.0</td>\n",
       "      <td>222.0</td>\n",
       "      <td>18.703125</td>\n",
       "      <td>394.75</td>\n",
       "      <td>2.939453</td>\n",
       "    </tr>\n",
       "    <tr>\n",
       "      <td>4</td>\n",
       "      <td>0.069031</td>\n",
       "      <td>0.0</td>\n",
       "      <td>2.179688</td>\n",
       "      <td>0.0</td>\n",
       "      <td>0.458008</td>\n",
       "      <td>7.148438</td>\n",
       "      <td>54.18750</td>\n",
       "      <td>6.062500</td>\n",
       "      <td>3.0</td>\n",
       "      <td>222.0</td>\n",
       "      <td>18.703125</td>\n",
       "      <td>397.00</td>\n",
       "      <td>5.328125</td>\n",
       "    </tr>\n",
       "  </tbody>\n",
       "</table>\n",
       "</div>"
      ],
      "text/plain": [
       "       CRIM    ZN     INDUS  CHAS       NOX        RM       AGE       DIS  \\\n",
       "0  0.006321  18.0  2.310547   0.0  0.538086  6.574219  65.18750  4.089844   \n",
       "1  0.027313   0.0  7.070312   0.0  0.468994  6.421875  78.87500  4.968750   \n",
       "2  0.027283   0.0  7.070312   0.0  0.468994  7.183594  61.09375  4.968750   \n",
       "3  0.032379   0.0  2.179688   0.0  0.458008  6.996094  45.81250  6.062500   \n",
       "4  0.069031   0.0  2.179688   0.0  0.458008  7.148438  54.18750  6.062500   \n",
       "\n",
       "   RAD    TAX    PTRATIO       B     LSTAT  \n",
       "0  1.0  296.0  15.296875  397.00  4.980469  \n",
       "1  2.0  242.0  17.796875  397.00  9.140625  \n",
       "2  2.0  242.0  17.796875  392.75  4.031250  \n",
       "3  3.0  222.0  18.703125  394.75  2.939453  \n",
       "4  3.0  222.0  18.703125  397.00  5.328125  "
      ]
     },
     "execution_count": 150,
     "metadata": {},
     "output_type": "execute_result"
    }
   ],
   "source": [
    "X = reduce_mem_usage(X)\n",
    "X.head()"
   ]
  },
  {
   "cell_type": "code",
   "execution_count": 151,
   "metadata": {
    "ExecuteTime": {
     "end_time": "2021-07-05T14:45:49.303478Z",
     "start_time": "2021-07-05T14:45:49.292615Z"
    }
   },
   "outputs": [],
   "source": [
    "y = pd.DataFrame(data = target, columns = ['price'])"
   ]
  },
  {
   "cell_type": "code",
   "execution_count": 152,
   "metadata": {
    "ExecuteTime": {
     "end_time": "2021-07-05T14:45:49.326813Z",
     "start_time": "2021-07-05T14:45:49.309091Z"
    }
   },
   "outputs": [
    {
     "name": "stdout",
     "output_type": "stream",
     "text": [
      "Memory usage of dataframe is 0.00 MB\n",
      "Memory usage after optimization is: 0.00 MB\n",
      "Decreased by 72.7%\n"
     ]
    }
   ],
   "source": [
    "y = reduce_mem_usage(y)"
   ]
  },
  {
   "cell_type": "code",
   "execution_count": 153,
   "metadata": {
    "ExecuteTime": {
     "end_time": "2021-07-05T14:45:51.562696Z",
     "start_time": "2021-07-05T14:45:51.545660Z"
    }
   },
   "outputs": [],
   "source": [
    "X_train, X_test, y_train, y_test = train_test_split(X,y,test_size = 0.2, random_state = 42)"
   ]
  },
  {
   "cell_type": "code",
   "execution_count": 154,
   "metadata": {
    "ExecuteTime": {
     "end_time": "2021-07-05T14:45:51.818684Z",
     "start_time": "2021-07-05T14:45:51.789659Z"
    }
   },
   "outputs": [
    {
     "data": {
      "text/html": [
       "<div>\n",
       "<style scoped>\n",
       "    .dataframe tbody tr th:only-of-type {\n",
       "        vertical-align: middle;\n",
       "    }\n",
       "\n",
       "    .dataframe tbody tr th {\n",
       "        vertical-align: top;\n",
       "    }\n",
       "\n",
       "    .dataframe thead th {\n",
       "        text-align: right;\n",
       "    }\n",
       "</style>\n",
       "<table border=\"1\" class=\"dataframe\">\n",
       "  <thead>\n",
       "    <tr style=\"text-align: right;\">\n",
       "      <th></th>\n",
       "      <th>CRIM</th>\n",
       "      <th>ZN</th>\n",
       "      <th>INDUS</th>\n",
       "      <th>CHAS</th>\n",
       "      <th>NOX</th>\n",
       "      <th>RM</th>\n",
       "      <th>AGE</th>\n",
       "      <th>DIS</th>\n",
       "      <th>RAD</th>\n",
       "      <th>TAX</th>\n",
       "      <th>PTRATIO</th>\n",
       "      <th>B</th>\n",
       "      <th>LSTAT</th>\n",
       "    </tr>\n",
       "  </thead>\n",
       "  <tbody>\n",
       "    <tr>\n",
       "      <td>477</td>\n",
       "      <td>15.023438</td>\n",
       "      <td>0.0</td>\n",
       "      <td>18.093750</td>\n",
       "      <td>0.0</td>\n",
       "      <td>0.613770</td>\n",
       "      <td>5.304688</td>\n",
       "      <td>97.312500</td>\n",
       "      <td>2.101562</td>\n",
       "      <td>24.0</td>\n",
       "      <td>666.0</td>\n",
       "      <td>20.203125</td>\n",
       "      <td>349.500000</td>\n",
       "      <td>24.906250</td>\n",
       "    </tr>\n",
       "    <tr>\n",
       "      <td>15</td>\n",
       "      <td>0.627441</td>\n",
       "      <td>0.0</td>\n",
       "      <td>8.140625</td>\n",
       "      <td>0.0</td>\n",
       "      <td>0.538086</td>\n",
       "      <td>5.835938</td>\n",
       "      <td>56.500000</td>\n",
       "      <td>4.500000</td>\n",
       "      <td>4.0</td>\n",
       "      <td>307.0</td>\n",
       "      <td>21.000000</td>\n",
       "      <td>395.500000</td>\n",
       "      <td>8.468750</td>\n",
       "    </tr>\n",
       "    <tr>\n",
       "      <td>332</td>\n",
       "      <td>0.034668</td>\n",
       "      <td>35.0</td>\n",
       "      <td>6.058594</td>\n",
       "      <td>0.0</td>\n",
       "      <td>0.437988</td>\n",
       "      <td>6.031250</td>\n",
       "      <td>23.296875</td>\n",
       "      <td>6.640625</td>\n",
       "      <td>1.0</td>\n",
       "      <td>304.0</td>\n",
       "      <td>16.906250</td>\n",
       "      <td>362.250000</td>\n",
       "      <td>7.828125</td>\n",
       "    </tr>\n",
       "    <tr>\n",
       "      <td>423</td>\n",
       "      <td>7.050781</td>\n",
       "      <td>0.0</td>\n",
       "      <td>18.093750</td>\n",
       "      <td>0.0</td>\n",
       "      <td>0.613770</td>\n",
       "      <td>6.101562</td>\n",
       "      <td>85.125000</td>\n",
       "      <td>2.021484</td>\n",
       "      <td>24.0</td>\n",
       "      <td>666.0</td>\n",
       "      <td>20.203125</td>\n",
       "      <td>2.519531</td>\n",
       "      <td>23.296875</td>\n",
       "    </tr>\n",
       "    <tr>\n",
       "      <td>19</td>\n",
       "      <td>0.725586</td>\n",
       "      <td>0.0</td>\n",
       "      <td>8.140625</td>\n",
       "      <td>0.0</td>\n",
       "      <td>0.538086</td>\n",
       "      <td>5.726562</td>\n",
       "      <td>69.500000</td>\n",
       "      <td>3.796875</td>\n",
       "      <td>4.0</td>\n",
       "      <td>307.0</td>\n",
       "      <td>21.000000</td>\n",
       "      <td>391.000000</td>\n",
       "      <td>11.281250</td>\n",
       "    </tr>\n",
       "    <tr>\n",
       "      <td>...</td>\n",
       "      <td>...</td>\n",
       "      <td>...</td>\n",
       "      <td>...</td>\n",
       "      <td>...</td>\n",
       "      <td>...</td>\n",
       "      <td>...</td>\n",
       "      <td>...</td>\n",
       "      <td>...</td>\n",
       "      <td>...</td>\n",
       "      <td>...</td>\n",
       "      <td>...</td>\n",
       "      <td>...</td>\n",
       "      <td>...</td>\n",
       "    </tr>\n",
       "    <tr>\n",
       "      <td>106</td>\n",
       "      <td>0.171143</td>\n",
       "      <td>0.0</td>\n",
       "      <td>8.562500</td>\n",
       "      <td>0.0</td>\n",
       "      <td>0.520020</td>\n",
       "      <td>5.835938</td>\n",
       "      <td>91.875000</td>\n",
       "      <td>2.210938</td>\n",
       "      <td>5.0</td>\n",
       "      <td>384.0</td>\n",
       "      <td>20.906250</td>\n",
       "      <td>395.750000</td>\n",
       "      <td>18.656250</td>\n",
       "    </tr>\n",
       "    <tr>\n",
       "      <td>270</td>\n",
       "      <td>0.299072</td>\n",
       "      <td>20.0</td>\n",
       "      <td>6.960938</td>\n",
       "      <td>0.0</td>\n",
       "      <td>0.464111</td>\n",
       "      <td>5.855469</td>\n",
       "      <td>42.093750</td>\n",
       "      <td>4.429688</td>\n",
       "      <td>3.0</td>\n",
       "      <td>223.0</td>\n",
       "      <td>18.593750</td>\n",
       "      <td>388.750000</td>\n",
       "      <td>13.000000</td>\n",
       "    </tr>\n",
       "    <tr>\n",
       "      <td>348</td>\n",
       "      <td>0.015007</td>\n",
       "      <td>80.0</td>\n",
       "      <td>2.009766</td>\n",
       "      <td>0.0</td>\n",
       "      <td>0.435059</td>\n",
       "      <td>6.636719</td>\n",
       "      <td>29.703125</td>\n",
       "      <td>8.343750</td>\n",
       "      <td>4.0</td>\n",
       "      <td>280.0</td>\n",
       "      <td>17.000000</td>\n",
       "      <td>391.000000</td>\n",
       "      <td>5.988281</td>\n",
       "    </tr>\n",
       "    <tr>\n",
       "      <td>435</td>\n",
       "      <td>11.164062</td>\n",
       "      <td>0.0</td>\n",
       "      <td>18.093750</td>\n",
       "      <td>0.0</td>\n",
       "      <td>0.740234</td>\n",
       "      <td>6.628906</td>\n",
       "      <td>94.625000</td>\n",
       "      <td>2.125000</td>\n",
       "      <td>24.0</td>\n",
       "      <td>666.0</td>\n",
       "      <td>20.203125</td>\n",
       "      <td>109.875000</td>\n",
       "      <td>23.265625</td>\n",
       "    </tr>\n",
       "    <tr>\n",
       "      <td>102</td>\n",
       "      <td>0.228760</td>\n",
       "      <td>0.0</td>\n",
       "      <td>8.562500</td>\n",
       "      <td>0.0</td>\n",
       "      <td>0.520020</td>\n",
       "      <td>6.406250</td>\n",
       "      <td>85.375000</td>\n",
       "      <td>2.714844</td>\n",
       "      <td>5.0</td>\n",
       "      <td>384.0</td>\n",
       "      <td>20.906250</td>\n",
       "      <td>70.812500</td>\n",
       "      <td>10.632812</td>\n",
       "    </tr>\n",
       "  </tbody>\n",
       "</table>\n",
       "<p>404 rows × 13 columns</p>\n",
       "</div>"
      ],
      "text/plain": [
       "          CRIM    ZN      INDUS  CHAS       NOX        RM        AGE  \\\n",
       "477  15.023438   0.0  18.093750   0.0  0.613770  5.304688  97.312500   \n",
       "15    0.627441   0.0   8.140625   0.0  0.538086  5.835938  56.500000   \n",
       "332   0.034668  35.0   6.058594   0.0  0.437988  6.031250  23.296875   \n",
       "423   7.050781   0.0  18.093750   0.0  0.613770  6.101562  85.125000   \n",
       "19    0.725586   0.0   8.140625   0.0  0.538086  5.726562  69.500000   \n",
       "..         ...   ...        ...   ...       ...       ...        ...   \n",
       "106   0.171143   0.0   8.562500   0.0  0.520020  5.835938  91.875000   \n",
       "270   0.299072  20.0   6.960938   0.0  0.464111  5.855469  42.093750   \n",
       "348   0.015007  80.0   2.009766   0.0  0.435059  6.636719  29.703125   \n",
       "435  11.164062   0.0  18.093750   0.0  0.740234  6.628906  94.625000   \n",
       "102   0.228760   0.0   8.562500   0.0  0.520020  6.406250  85.375000   \n",
       "\n",
       "          DIS   RAD    TAX    PTRATIO           B      LSTAT  \n",
       "477  2.101562  24.0  666.0  20.203125  349.500000  24.906250  \n",
       "15   4.500000   4.0  307.0  21.000000  395.500000   8.468750  \n",
       "332  6.640625   1.0  304.0  16.906250  362.250000   7.828125  \n",
       "423  2.021484  24.0  666.0  20.203125    2.519531  23.296875  \n",
       "19   3.796875   4.0  307.0  21.000000  391.000000  11.281250  \n",
       "..        ...   ...    ...        ...         ...        ...  \n",
       "106  2.210938   5.0  384.0  20.906250  395.750000  18.656250  \n",
       "270  4.429688   3.0  223.0  18.593750  388.750000  13.000000  \n",
       "348  8.343750   4.0  280.0  17.000000  391.000000   5.988281  \n",
       "435  2.125000  24.0  666.0  20.203125  109.875000  23.265625  \n",
       "102  2.714844   5.0  384.0  20.906250   70.812500  10.632812  \n",
       "\n",
       "[404 rows x 13 columns]"
      ]
     },
     "execution_count": 154,
     "metadata": {},
     "output_type": "execute_result"
    }
   ],
   "source": [
    "X_train"
   ]
  },
  {
   "cell_type": "code",
   "execution_count": 155,
   "metadata": {
    "ExecuteTime": {
     "end_time": "2021-07-05T14:45:51.831952Z",
     "start_time": "2021-07-05T14:45:51.824336Z"
    }
   },
   "outputs": [],
   "source": [
    "# using standard scaler"
   ]
  },
  {
   "cell_type": "code",
   "execution_count": 156,
   "metadata": {
    "ExecuteTime": {
     "end_time": "2021-07-05T14:45:52.111905Z",
     "start_time": "2021-07-05T14:45:52.104649Z"
    }
   },
   "outputs": [
    {
     "data": {
      "text/plain": [
       "CRIM       float16\n",
       "ZN         float16\n",
       "INDUS      float16\n",
       "CHAS       float16\n",
       "NOX        float16\n",
       "RM         float16\n",
       "AGE        float16\n",
       "DIS        float16\n",
       "RAD        float16\n",
       "TAX        float16\n",
       "PTRATIO    float16\n",
       "B          float16\n",
       "LSTAT      float16\n",
       "dtype: object"
      ]
     },
     "execution_count": 156,
     "metadata": {},
     "output_type": "execute_result"
    }
   ],
   "source": [
    "X_train.dtypes"
   ]
  },
  {
   "cell_type": "code",
   "execution_count": 157,
   "metadata": {
    "ExecuteTime": {
     "end_time": "2021-07-05T14:45:52.625030Z",
     "start_time": "2021-07-05T14:45:52.601422Z"
    }
   },
   "outputs": [],
   "source": [
    "# get all the feature names you want to standardize\n",
    "feature_names_for_stand = X_train.select_dtypes(include=['float32','float16']).columns.tolist()"
   ]
  },
  {
   "cell_type": "code",
   "execution_count": 158,
   "metadata": {
    "ExecuteTime": {
     "end_time": "2021-07-05T14:45:52.846738Z",
     "start_time": "2021-07-05T14:45:52.838956Z"
    }
   },
   "outputs": [
    {
     "data": {
      "text/plain": [
       "['CRIM',\n",
       " 'ZN',\n",
       " 'INDUS',\n",
       " 'CHAS',\n",
       " 'NOX',\n",
       " 'RM',\n",
       " 'AGE',\n",
       " 'DIS',\n",
       " 'RAD',\n",
       " 'TAX',\n",
       " 'PTRATIO',\n",
       " 'B',\n",
       " 'LSTAT']"
      ]
     },
     "execution_count": 158,
     "metadata": {},
     "output_type": "execute_result"
    }
   ],
   "source": [
    "feature_names_for_stand"
   ]
  },
  {
   "cell_type": "code",
   "execution_count": 159,
   "metadata": {
    "ExecuteTime": {
     "end_time": "2021-07-05T14:45:53.124344Z",
     "start_time": "2021-07-05T14:45:53.091637Z"
    }
   },
   "outputs": [
    {
     "name": "stderr",
     "output_type": "stream",
     "text": [
      "/Users/oluwadahunsialawode/opt/anaconda3/lib/python3.7/site-packages/numpy/lib/nanfunctions.py:1545: RuntimeWarning: overflow encountered in multiply\n",
      "  sqr = np.multiply(arr, arr, out=arr)\n"
     ]
    }
   ],
   "source": [
    "scaler = StandardScaler()\n",
    "\n",
    "stand_features_train = scaler.fit_transform(X_train[feature_names_for_stand])\n",
    "stand_features_test = scaler.transform(X_test[feature_names_for_stand])"
   ]
  },
  {
   "cell_type": "code",
   "execution_count": 160,
   "metadata": {
    "ExecuteTime": {
     "end_time": "2021-07-05T14:45:53.383802Z",
     "start_time": "2021-07-05T14:45:53.374229Z"
    }
   },
   "outputs": [
    {
     "data": {
      "text/plain": [
       "array([[ 1.287 , -0.5005,  1.033 , ...,  0.846 , -0.    ,  1.753 ],\n",
       "       [-0.3364, -0.5005, -0.413 , ...,  1.203 ,  0.    , -0.5615],\n",
       "       [-0.403 ,  1.014 , -0.7153, ..., -0.635 ,  0.    , -0.652 ],\n",
       "       ...,\n",
       "       [-0.4055,  2.959 , -1.304 , ..., -0.5923,  0.    , -0.911 ],\n",
       "       [ 0.852 , -0.5005,  1.033 , ...,  0.846 , -0.    ,  1.521 ],\n",
       "       [-0.3813, -0.5005, -0.3518, ...,  1.161 , -0.    , -0.2568]],\n",
       "      dtype=float16)"
      ]
     },
     "execution_count": 160,
     "metadata": {},
     "output_type": "execute_result"
    }
   ],
   "source": [
    "stand_features_train"
   ]
  },
  {
   "cell_type": "code",
   "execution_count": 161,
   "metadata": {
    "ExecuteTime": {
     "end_time": "2021-07-05T14:45:53.704887Z",
     "start_time": "2021-07-05T14:45:53.691013Z"
    }
   },
   "outputs": [
    {
     "name": "stderr",
     "output_type": "stream",
     "text": [
      "/Users/oluwadahunsialawode/opt/anaconda3/lib/python3.7/site-packages/ipykernel_launcher.py:1: SettingWithCopyWarning: \n",
      "A value is trying to be set on a copy of a slice from a DataFrame.\n",
      "Try using .loc[row_indexer,col_indexer] = value instead\n",
      "\n",
      "See the caveats in the documentation: http://pandas.pydata.org/pandas-docs/stable/user_guide/indexing.html#returning-a-view-versus-a-copy\n",
      "  \"\"\"Entry point for launching an IPython kernel.\n",
      "/Users/oluwadahunsialawode/opt/anaconda3/lib/python3.7/site-packages/pandas/core/frame.py:3498: SettingWithCopyWarning: \n",
      "A value is trying to be set on a copy of a slice from a DataFrame\n",
      "\n",
      "See the caveats in the documentation: http://pandas.pydata.org/pandas-docs/stable/user_guide/indexing.html#returning-a-view-versus-a-copy\n",
      "  self.loc._setitem_with_indexer((slice(None), indexer), value)\n",
      "/Users/oluwadahunsialawode/opt/anaconda3/lib/python3.7/site-packages/pandas/core/frame.py:3469: SettingWithCopyWarning: \n",
      "A value is trying to be set on a copy of a slice from a DataFrame\n",
      "\n",
      "See the caveats in the documentation: http://pandas.pydata.org/pandas-docs/stable/user_guide/indexing.html#returning-a-view-versus-a-copy\n",
      "  self._setitem_array(key, value)\n",
      "/Users/oluwadahunsialawode/opt/anaconda3/lib/python3.7/site-packages/ipykernel_launcher.py:2: SettingWithCopyWarning: \n",
      "A value is trying to be set on a copy of a slice from a DataFrame.\n",
      "Try using .loc[row_indexer,col_indexer] = value instead\n",
      "\n",
      "See the caveats in the documentation: http://pandas.pydata.org/pandas-docs/stable/user_guide/indexing.html#returning-a-view-versus-a-copy\n",
      "  \n"
     ]
    }
   ],
   "source": [
    "X_train[feature_names_for_stand] = stand_features_train\n",
    "X_test[feature_names_for_stand] = stand_features_test"
   ]
  },
  {
   "cell_type": "code",
   "execution_count": 162,
   "metadata": {
    "ExecuteTime": {
     "end_time": "2021-07-05T14:45:53.995049Z",
     "start_time": "2021-07-05T14:45:53.989529Z"
    }
   },
   "outputs": [],
   "source": [
    "from sklearn.manifold import TSNE"
   ]
  },
  {
   "cell_type": "code",
   "execution_count": 163,
   "metadata": {
    "ExecuteTime": {
     "end_time": "2021-07-05T14:45:54.253819Z",
     "start_time": "2021-07-05T14:45:54.246153Z"
    }
   },
   "outputs": [],
   "source": [
    "tsne = TSNE(n_components = 2, learning_rate =250, random_state = 42)"
   ]
  },
  {
   "cell_type": "code",
   "execution_count": 164,
   "metadata": {
    "ExecuteTime": {
     "end_time": "2021-07-05T14:46:01.596271Z",
     "start_time": "2021-07-05T14:45:54.539347Z"
    }
   },
   "outputs": [],
   "source": [
    "X_train_tsne = tsne.fit_transform(X_train)"
   ]
  },
  {
   "cell_type": "code",
   "execution_count": 165,
   "metadata": {
    "ExecuteTime": {
     "end_time": "2021-07-05T14:46:01.892053Z",
     "start_time": "2021-07-05T14:46:01.880785Z"
    }
   },
   "outputs": [
    {
     "data": {
      "text/plain": [
       "(404, 2)"
      ]
     },
     "execution_count": 165,
     "metadata": {},
     "output_type": "execute_result"
    }
   ],
   "source": [
    "X_train_tsne.shape"
   ]
  },
  {
   "cell_type": "code",
   "execution_count": 166,
   "metadata": {
    "ExecuteTime": {
     "end_time": "2021-07-05T14:46:02.368324Z",
     "start_time": "2021-07-05T14:46:02.153559Z"
    }
   },
   "outputs": [
    {
     "data": {
      "text/plain": [
       "<matplotlib.collections.PathCollection at 0x7fb3df0ab610>"
      ]
     },
     "execution_count": 166,
     "metadata": {},
     "output_type": "execute_result"
    },
    {
     "data": {
      "image/png": "[encoded data removed]",
      "text/plain": [
       "<Figure size 432x288 with 1 Axes>"
      ]
     },
     "metadata": {
      "needs_background": "light"
     },
     "output_type": "display_data"
    }
   ],
   "source": [
    "plt.scatter(X_train_tsne[:,0],X_train_tsne[:,1])"
   ]
  },
  {
   "cell_type": "markdown",
   "metadata": {
    "ExecuteTime": {
     "end_time": "2021-07-05T13:55:54.616720Z",
     "start_time": "2021-07-05T13:55:54.602691Z"
    }
   },
   "source": [
    "Задание 2"
   ]
  },
  {
   "cell_type": "markdown",
   "metadata": {},
   "source": [
    "С помощью KMeans разбейте данные из тренировочного набора на 3 кластера,\n",
    "используйте все признаки из датафрейма X_train.\n",
    "Параметр max_iter должен быть равен 100, random_state сделайте равным 42.\n",
    "Постройте еще раз диаграмму рассеяния на данных, полученных с помощью TSNE,\n",
    "и раскрасьте точки из разных кластеров разными цветами.\n",
    "Вычислите средние значения price и CRIM в разных кластерах.\n"
   ]
  },
  {
   "cell_type": "code",
   "execution_count": 167,
   "metadata": {
    "ExecuteTime": {
     "end_time": "2021-07-05T14:46:02.619258Z",
     "start_time": "2021-07-05T14:46:02.612571Z"
    }
   },
   "outputs": [],
   "source": [
    "from sklearn.cluster import KMeans"
   ]
  },
  {
   "cell_type": "code",
   "execution_count": 168,
   "metadata": {
    "ExecuteTime": {
     "end_time": "2021-07-05T14:46:02.857923Z",
     "start_time": "2021-07-05T14:46:02.847469Z"
    }
   },
   "outputs": [],
   "source": [
    "kmeans = KMeans(n_clusters = 3,max_iter = 100, random_state = 42)"
   ]
  },
  {
   "cell_type": "code",
   "execution_count": 169,
   "metadata": {
    "ExecuteTime": {
     "end_time": "2021-07-05T14:46:03.192529Z",
     "start_time": "2021-07-05T14:46:03.104025Z"
    }
   },
   "outputs": [],
   "source": [
    "labels_train = kmeans.fit_predict(X_train)"
   ]
  },
  {
   "cell_type": "code",
   "execution_count": null,
   "metadata": {
    "ExecuteTime": {
     "end_time": "2021-07-05T14:34:07.004690Z",
     "start_time": "2021-07-05T14:34:06.993478Z"
    }
   },
   "outputs": [],
   "source": []
  },
  {
   "cell_type": "code",
   "execution_count": 170,
   "metadata": {
    "ExecuteTime": {
     "end_time": "2021-07-05T14:46:03.491608Z",
     "start_time": "2021-07-05T14:46:03.473546Z"
    }
   },
   "outputs": [
    {
     "data": {
      "text/plain": [
       "1    184\n",
       "2    136\n",
       "0     84\n",
       "dtype: int64"
      ]
     },
     "execution_count": 170,
     "metadata": {},
     "output_type": "execute_result"
    }
   ],
   "source": [
    "pd.value_counts(labels_train)"
   ]
  },
  {
   "cell_type": "code",
   "execution_count": null,
   "metadata": {
    "ExecuteTime": {
     "end_time": "2021-07-05T14:21:39.622472Z",
     "start_time": "2021-07-05T14:21:39.612724Z"
    }
   },
   "outputs": [],
   "source": []
  },
  {
   "cell_type": "code",
   "execution_count": 171,
   "metadata": {
    "ExecuteTime": {
     "end_time": "2021-07-05T14:46:08.374875Z",
     "start_time": "2021-07-05T14:46:08.002146Z"
    }
   },
   "outputs": [
    {
     "data": {
      "text/plain": [
       "Text(10, 27, 'Кластер 2')"
      ]
     },
     "execution_count": 171,
     "metadata": {},
     "output_type": "execute_result"
    },
    {
     "data": {
      "image/png": "[encoded data removed]",
      "text/plain": [
       "<Figure size 432x288 with 1 Axes>"
      ]
     },
     "metadata": {
      "needs_background": "light"
     },
     "output_type": "display_data"
    }
   ],
   "source": [
    "plt.scatter(X_train_tsne[:,0],X_train_tsne[:,1], c=labels_train)\n",
    "plt.text(-27,-10,'Кластер 0')\n",
    "plt.text(-10,10,'Кластер 1')\n",
    "plt.text(10,27,'Кластер 2')"
   ]
  },
  {
   "cell_type": "code",
   "execution_count": 172,
   "metadata": {
    "ExecuteTime": {
     "end_time": "2021-07-05T14:46:11.912600Z",
     "start_time": "2021-07-05T14:46:11.903765Z"
    }
   },
   "outputs": [
    {
     "name": "stdout",
     "output_type": "stream",
     "text": [
      "First cluster -0.3992\n",
      "Second cluster -0.3594\n",
      "Third cluster 0.733\n"
     ]
    }
   ],
   "source": [
    "print('First cluster', X_train.loc[labels_train==0, 'CRIM'].mean())\n",
    "print('Second cluster',X_train.loc[labels_train==1, 'CRIM'].mean())\n",
    "print('Third cluster', X_train.loc[labels_train==2, 'CRIM'].mean())"
   ]
  },
  {
   "cell_type": "code",
   "execution_count": 174,
   "metadata": {
    "ExecuteTime": {
     "end_time": "2021-07-05T14:46:20.947374Z",
     "start_time": "2021-07-05T14:46:20.926913Z"
    }
   },
   "outputs": [
    {
     "name": "stdout",
     "output_type": "stream",
     "text": [
      "First cluster: price    27.921875\n",
      "dtype: float16\n",
      "Second cluster: price    25.171875\n",
      "dtype: float16\n",
      "Third cluster: price    16.390625\n",
      "dtype: float16\n"
     ]
    }
   ],
   "source": [
    "print('First cluster:', y_train[labels_train==0].mean())\n",
    "print('Second cluster:',y_train[labels_train==1].mean())\n",
    "print('Third cluster:', y_train[labels_train==2].mean())"
   ]
  },
  {
   "cell_type": "markdown",
   "metadata": {
    "ExecuteTime": {
     "end_time": "2021-07-05T14:35:05.452024Z",
     "start_time": "2021-07-05T14:35:05.442063Z"
    }
   },
   "source": [
    "Задание 3"
   ]
  },
  {
   "cell_type": "markdown",
   "metadata": {},
   "source": [
    "Примените модель KMeans, построенную в предыдущем задании,\n",
    "к данным из тестового набора.\n",
    "Вычислите средние значения price и CRIM в разных кластерах на тестовых данных.\n"
   ]
  },
  {
   "cell_type": "code",
   "execution_count": 175,
   "metadata": {
    "ExecuteTime": {
     "end_time": "2021-07-05T14:46:21.687768Z",
     "start_time": "2021-07-05T14:46:21.676245Z"
    }
   },
   "outputs": [
    {
     "name": "stderr",
     "output_type": "stream",
     "text": [
      "/Users/oluwadahunsialawode/opt/anaconda3/lib/python3.7/site-packages/ipykernel_launcher.py:1: SettingWithCopyWarning: \n",
      "A value is trying to be set on a copy of a slice from a DataFrame.\n",
      "Try using .loc[row_indexer,col_indexer] = value instead\n",
      "\n",
      "See the caveats in the documentation: http://pandas.pydata.org/pandas-docs/stable/user_guide/indexing.html#returning-a-view-versus-a-copy\n",
      "  \"\"\"Entry point for launching an IPython kernel.\n",
      "/Users/oluwadahunsialawode/opt/anaconda3/lib/python3.7/site-packages/pandas/core/frame.py:3498: SettingWithCopyWarning: \n",
      "A value is trying to be set on a copy of a slice from a DataFrame\n",
      "\n",
      "See the caveats in the documentation: http://pandas.pydata.org/pandas-docs/stable/user_guide/indexing.html#returning-a-view-versus-a-copy\n",
      "  self.loc._setitem_with_indexer((slice(None), indexer), value)\n",
      "/Users/oluwadahunsialawode/opt/anaconda3/lib/python3.7/site-packages/pandas/core/frame.py:3469: SettingWithCopyWarning: \n",
      "A value is trying to be set on a copy of a slice from a DataFrame\n",
      "\n",
      "See the caveats in the documentation: http://pandas.pydata.org/pandas-docs/stable/user_guide/indexing.html#returning-a-view-versus-a-copy\n",
      "  self._setitem_array(key, value)\n"
     ]
    }
   ],
   "source": [
    "X_test[feature_names_for_stand] = stand_features_test"
   ]
  },
  {
   "cell_type": "code",
   "execution_count": 176,
   "metadata": {
    "ExecuteTime": {
     "end_time": "2021-07-05T14:46:23.439619Z",
     "start_time": "2021-07-05T14:46:22.235205Z"
    }
   },
   "outputs": [],
   "source": [
    "X_test_tsne = tsne.fit_transform(X_test)\n",
    "labels_test = kmeans.fit_predict(X_test)"
   ]
  },
  {
   "cell_type": "code",
   "execution_count": 177,
   "metadata": {
    "ExecuteTime": {
     "end_time": "2021-07-05T14:46:24.135886Z",
     "start_time": "2021-07-05T14:46:23.867666Z"
    }
   },
   "outputs": [
    {
     "data": {
      "text/plain": [
       "<matplotlib.collections.PathCollection at 0x7fb3df16a990>"
      ]
     },
     "execution_count": 177,
     "metadata": {},
     "output_type": "execute_result"
    },
    {
     "data": {
      "image/png": "[encoded data removed]",
      "text/plain": [
       "<Figure size 432x288 with 1 Axes>"
      ]
     },
     "metadata": {
      "needs_background": "light"
     },
     "output_type": "display_data"
    }
   ],
   "source": [
    "plt.scatter(X_test_tsne[:,0],X_test_tsne[:,1], c=labels_test)"
   ]
  },
  {
   "cell_type": "code",
   "execution_count": 178,
   "metadata": {
    "ExecuteTime": {
     "end_time": "2021-07-05T14:46:24.464262Z",
     "start_time": "2021-07-05T14:46:24.444061Z"
    }
   },
   "outputs": [
    {
     "name": "stdout",
     "output_type": "stream",
     "text": [
      "first cluster 0.6284\n",
      "first cluster -0.3823\n",
      "first cluster -0.4026\n"
     ]
    }
   ],
   "source": [
    "print('first cluster', X_test['CRIM'][labels_test == 0].mean())\n",
    "print('first cluster', X_test['CRIM'][labels_test == 1].mean())\n",
    "print('first cluster', X_test['CRIM'][labels_test == 2].mean())"
   ]
  },
  {
   "cell_type": "code",
   "execution_count": 180,
   "metadata": {
    "ExecuteTime": {
     "end_time": "2021-07-05T14:46:48.313714Z",
     "start_time": "2021-07-05T14:46:48.296867Z"
    }
   },
   "outputs": [
    {
     "name": "stdout",
     "output_type": "stream",
     "text": [
      "First cluster: price    16.765625\n",
      "dtype: float16\n",
      "Second cluster: price    22.765625\n",
      "dtype: float16\n",
      "Third cluster: price    34.3125\n",
      "dtype: float16\n"
     ]
    }
   ],
   "source": [
    "print('First cluster:', y_test[labels_test==0].mean())\n",
    "print('Second cluster:',y_test[labels_test==1].mean())\n",
    "print('Third cluster:', y_test[labels_test==2].mean())"
   ]
  },
  {
   "cell_type": "code",
   "execution_count": null,
   "metadata": {},
   "outputs": [],
   "source": []
  }
 ],
 "metadata": {
  "kernelspec": {
   "display_name": "Python 3",
   "language": "python",
   "name": "python3"
  },
  "language_info": {
   "codemirror_mode": {
    "name": "ipython",
    "version": 3
   },
   "file_extension": ".py",
   "mimetype": "text/x-python",
   "name": "python",
   "nbconvert_exporter": "python",
   "pygments_lexer": "ipython3",
   "version": "3.7.4"
  },
  "toc": {
   "base_numbering": 1,
   "nav_menu": {},
   "number_sections": true,
   "sideBar": true,
   "skip_h1_title": false,
   "title_cell": "Table of Contents",
   "title_sidebar": "Contents",
   "toc_cell": false,
   "toc_position": {},
   "toc_section_display": true,
   "toc_window_display": false
  },
  "varInspector": {
   "cols": {
    "lenName": 16,
    "lenType": 16,
    "lenVar": 40
   },
   "kernels_config": {
    "python": {
     "delete_cmd_postfix": "",
     "delete_cmd_prefix": "del ",
     "library": "var_list.py",
     "varRefreshCmd": "print(var_dic_list())"
    },
    "r": {
     "delete_cmd_postfix": ") ",
     "delete_cmd_prefix": "rm(",
     "library": "var_list.r",
     "varRefreshCmd": "cat(var_dic_list()) "
    }
   },
   "types_to_exclude": [
    "module",
    "function",
    "builtin_function_or_method",
    "instance",
    "_Feature"
   ],
   "window_display": false
  }
 },
 "nbformat": 4,
 "nbformat_minor": 2
}
